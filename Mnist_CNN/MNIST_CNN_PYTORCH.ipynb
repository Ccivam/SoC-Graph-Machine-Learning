{
 "cells": [
  {
   "cell_type": "code",
   "execution_count": 63,
   "id": "907b4b6f",
   "metadata": {},
   "outputs": [],
   "source": [
    "import torch,torchvision\n",
    "from torchvision import transforms\n",
    "from torch import nn\n",
    "from torch import optim\n",
    "from torchvision.transforms import ToTensor\n",
    "import torch.nn.functional as F\n",
    "import matplotlib.pyplot as plt"
   ]
  },
  {
   "cell_type": "code",
   "execution_count": 64,
   "id": "f66937f7",
   "metadata": {},
   "outputs": [],
   "source": [
    "mnist_trainset=torchvision.datasets.MNIST('mnist_data',train=True,download=True,transform=transforms.Compose([transforms.ToTensor()]))\n",
    "mnist_testset=torchvision.datasets.MNIST('mnist_data',train=False,download=True,transform=transforms.Compose([transforms.ToTensor()]))"
   ]
  },
  {
   "cell_type": "code",
   "execution_count": 65,
   "id": "b66ee240",
   "metadata": {},
   "outputs": [],
   "source": [
    "mnist_valset,mnist_testset=torch.utils.data.random_split(mnist_testset,[int(0.9*len(mnist_testset)),int(0.1*len(mnist_testset))])"
   ]
  },
  {
   "cell_type": "code",
   "execution_count": 66,
   "id": "1f54ff99",
   "metadata": {},
   "outputs": [],
   "source": [
    "train_dataloader=torch.utils.data.DataLoader(mnist_trainset,batch_size=64,shuffle=True)\n",
    "val_dataloader=torch.utils.data.DataLoader(mnist_valset,batch_size=32,shuffle=False)\n",
    "test_dataloader=torch.utils.data.DataLoader(mnist_testset,batch_size=32,shuffle=False)"
   ]
  },
  {
   "cell_type": "code",
   "execution_count": 67,
   "id": "24f8c1db",
   "metadata": {},
   "outputs": [],
   "source": [
    "class Model(torch.nn.Module):\n",
    "        def __init__(self):\n",
    "            super(Model,self).__init__()\n",
    "            self.conv_1=nn.Conv2d(1,6,3,stride=1)\n",
    "            self.conv_2=nn.Conv2d(6,16,3,stride=1)\n",
    "            self.conv_3=nn.Conv2d(16,120,4,stride=1)\n",
    "            self.avg_pool2d=nn.AvgPool2d(kernel_size=2,stride=2)\n",
    "            self.linear_1=nn.Linear(120,84)\n",
    "            self.linear_2=nn.Linear(84,10)\n",
    "            self.tanh=nn.Tanh()\n",
    "            \n",
    "            \n",
    "        def forward(self,x):\n",
    "            x=self.conv_1(x)\n",
    "            x=self.tanh(x)\n",
    "            x=self.avg_pool2d(x)\n",
    "            x=self.conv_2(x)\n",
    "            x=self.tanh(x)\n",
    "            x=self.avg_pool2d(x)\n",
    "            x=self.conv_3(x)\n",
    "            x=self.tanh(x)\n",
    "            x=self.avg_pool2d(x)\n",
    "            x=x.reshape(x.size(0),-1)\n",
    "            x=self.linear_1(x)\n",
    "            x=self.tanh(x)\n",
    "            pred=self.linear_2(x)\n",
    "            return pred"
   ]
  },
  {
   "cell_type": "code",
   "execution_count": 68,
   "id": "b6ef3281",
   "metadata": {},
   "outputs": [],
   "source": [
    "model=Model()\n",
    "criterion=nn.CrossEntropyLoss()\n",
    "optimizer=optim.Adam(model.parameters(),lr=0.001)    "
   ]
  },
  {
   "cell_type": "code",
   "execution_count": 69,
   "id": "d8e6a2a6",
   "metadata": {},
   "outputs": [],
   "source": [
    "no_epochs=10\n",
    "train_loss=list()\n",
    "val_loss=list()\n",
    "best_val_loss=1"
   ]
  },
  {
   "cell_type": "code",
   "execution_count": 73,
   "id": "f59de340",
   "metadata": {},
   "outputs": [],
   "source": [
    "for epoch in range(no_epochs):\n",
    "    total_train_loss=0\n",
    "    total_val_loss=0\n",
    "    \n",
    "    model.train()\n",
    "    #training\n",
    "    for itr,(image,label) in enumerate(train_dataloader):\n",
    "        \n",
    "        optimizer.zero_grad()\n",
    "        pred=model(image)\n",
    "        \n",
    "        loss=criterion(pred,label)\n",
    "        total_train_loss+=loss.item()\n",
    "        \n",
    "        loss.backward()\n",
    "        optimizer.step()\n",
    "        \n",
    "    total_train_loss=total_train_loss/(itr+1)\n",
    "    train_loss.append(total_train_loss)"
   ]
  },
  {
   "cell_type": "code",
   "execution_count": 85,
   "id": "8132248d",
   "metadata": {},
   "outputs": [
    {
     "name": "stdout",
     "output_type": "stream",
     "text": [
      "0.9884444444444445\n"
     ]
    }
   ],
   "source": [
    "#validation\n",
    "model.eval()\n",
    "total=0\n",
    "for itr,(image,label) in enumerate(val_dataloader):\n",
    "    \n",
    "        pred=model(image)\n",
    "    \n",
    "        loss=criterion(pred,label)\n",
    "        total_val_loss+=loss.item()\n",
    "    \n",
    "        pred=nn.functional.softmax(pred,dim=1)\n",
    "        for i,p in enumerate(pred):\n",
    "            if label[i]==torch.max(p.data,0)[1]:\n",
    "                total=total+1\n",
    "    \n",
    "    \n",
    "accuracy=total/len(mnist_valset)\n",
    "    \n",
    "total_val_loss=total_val_loss/(itr+1)\n",
    "val_loss.append(total_val_loss)\n",
    "    \n",
    "if total_val_loss<best_val_loss:\n",
    "        best_val_loss=total_val_loss\n",
    "        torch.save(model.state_dict(),\"model.dth\")\n",
    "print(accuracy)"
   ]
  },
  {
   "cell_type": "code",
   "execution_count": 95,
   "id": "275c49e7",
   "metadata": {},
   "outputs": [
    {
     "name": "stdout",
     "output_type": "stream",
     "text": [
      "0.9884444444444445\n"
     ]
    }
   ],
   "source": [
    "#test_model\n",
    "model.load_state_dict(torch.load(\"model.dth\"))\n",
    "model.eval()\n",
    "\n",
    "results=list()\n",
    "total=0\n",
    "\n",
    "for itr,(image,label) in enumerate(test_dataloader):\n",
    "    \n",
    "    pred=model(image)\n",
    "    pred=nn.functional.softmax(pred,dim=1)\n",
    "    \n",
    "    for i,p in enumerate(pred):\n",
    "        if label[i]==torch.max(p.data,0)[1]:\n",
    "            total=total+1\n",
    "            results.append((image,torch.max(p.data,0)[1]))\n",
    "test_accuracy=total/(itr+1)\n",
    "print(accuracy)\n"
   ]
  }
 ],
 "metadata": {
  "kernelspec": {
   "display_name": "Python 3 (ipykernel)",
   "language": "python",
   "name": "python3"
  },
  "language_info": {
   "codemirror_mode": {
    "name": "ipython",
    "version": 3
   },
   "file_extension": ".py",
   "mimetype": "text/x-python",
   "name": "python",
   "nbconvert_exporter": "python",
   "pygments_lexer": "ipython3",
   "version": "3.9.13"
  }
 },
 "nbformat": 4,
 "nbformat_minor": 5
}
