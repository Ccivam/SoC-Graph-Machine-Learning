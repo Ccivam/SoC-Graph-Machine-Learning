{
 "cells": [
  {
   "cell_type": "code",
   "execution_count": 50,
   "id": "2ad11955",
   "metadata": {},
   "outputs": [],
   "source": [
    "import torch\n",
    "import numpy as np"
   ]
  },
  {
   "cell_type": "code",
   "execution_count": 16,
   "id": "a408568b",
   "metadata": {},
   "outputs": [
    {
     "name": "stdout",
     "output_type": "stream",
     "text": [
      "torch.float16\n"
     ]
    }
   ],
   "source": [
    "x=torch.ones(2,3,dtype=torch.float16)\n",
    "print(x.dtype)"
   ]
  },
  {
   "cell_type": "code",
   "execution_count": 18,
   "id": "21ff9af1",
   "metadata": {},
   "outputs": [
    {
     "name": "stdout",
     "output_type": "stream",
     "text": [
      "torch.Size([2, 3])\n"
     ]
    }
   ],
   "source": [
    "print(x.size())"
   ]
  },
  {
   "cell_type": "code",
   "execution_count": 22,
   "id": "58a70159",
   "metadata": {},
   "outputs": [
    {
     "name": "stdout",
     "output_type": "stream",
     "text": [
      "torch.Size([2])\n"
     ]
    }
   ],
   "source": [
    "y=torch.tensor([2,5])\n",
    "print(y.size())"
   ]
  },
  {
   "cell_type": "code",
   "execution_count": 25,
   "id": "f55b3f39",
   "metadata": {},
   "outputs": [
    {
     "data": {
      "text/plain": [
       "(tensor([[0.8891, 0.1668],\n",
       "         [0.0018, 0.3829]]),\n",
       " tensor([[0.9489, 0.0125],\n",
       "         [0.3266, 0.7682]]))"
      ]
     },
     "execution_count": 25,
     "metadata": {},
     "output_type": "execute_result"
    }
   ],
   "source": [
    "a=torch.rand(2,2)\n",
    "b=torch.rand(2,2)\n",
    "a,b"
   ]
  },
  {
   "cell_type": "code",
   "execution_count": 29,
   "id": "cb6af789",
   "metadata": {},
   "outputs": [
    {
     "name": "stdout",
     "output_type": "stream",
     "text": [
      "tensor([[8.4365e-01, 2.0779e-03],\n",
      "        [5.8546e-04, 2.9412e-01]])\n",
      "tensor([[1.8380, 0.1792],\n",
      "        [0.3284, 1.1511]])\n"
     ]
    }
   ],
   "source": [
    "c=a*b\n",
    "print(c)\n",
    "print(torch.add(a,b))"
   ]
  },
  {
   "cell_type": "code",
   "execution_count": 31,
   "id": "2773a816",
   "metadata": {},
   "outputs": [
    {
     "name": "stdout",
     "output_type": "stream",
     "text": [
      "tensor([[2.7271, 0.3460],\n",
      "        [0.3302, 1.5339]])\n"
     ]
    }
   ],
   "source": [
    "b.add_(a)\n",
    "print(b)"
   ]
  },
  {
   "cell_type": "code",
   "execution_count": 63,
   "id": "46400a06",
   "metadata": {},
   "outputs": [
    {
     "name": "stdout",
     "output_type": "stream",
     "text": [
      "tensor([[0.9853, 0.8916, 0.7469],\n",
      "        [0.2188, 0.2966, 0.7815],\n",
      "        [0.9652, 0.0099, 0.0124],\n",
      "        [0.6840, 0.8092, 0.1567],\n",
      "        [0.3519, 0.1076, 0.8393]])\n",
      "0.2966281771659851\n",
      "tensor(0.2966)\n"
     ]
    }
   ],
   "source": [
    "#slicing\n",
    "d=torch.rand(5,3)\n",
    "print(d)\n",
    "print(d[1,1].item())\n",
    "print(d[1,1])#We can use item if we have only one element in the tensor|"
   ]
  },
  {
   "cell_type": "code",
   "execution_count": 41,
   "id": "9758eb3a",
   "metadata": {},
   "outputs": [
    {
     "name": "stdout",
     "output_type": "stream",
     "text": [
      "tensor([[0.6872, 0.4537, 0.9209, 0.0231],\n",
      "        [0.4164, 0.0021, 0.7990, 0.2603],\n",
      "        [0.2680, 0.7009, 0.2020, 0.4758],\n",
      "        [0.8761, 0.1809, 0.0221, 0.6623]])\n"
     ]
    }
   ],
   "source": [
    "zw=torch.rand(4,4)\n",
    "print(zw)"
   ]
  },
  {
   "cell_type": "code",
   "execution_count": 51,
   "id": "01123ba6",
   "metadata": {},
   "outputs": [
    {
     "name": "stdout",
     "output_type": "stream",
     "text": [
      "tensor([[0.6872, 0.4537, 0.9209, 0.0231, 0.4164, 0.0021, 0.7990, 0.2603],\n",
      "        [0.2680, 0.7009, 0.2020, 0.4758, 0.8761, 0.1809, 0.0221, 0.6623]])\n"
     ]
    }
   ],
   "source": [
    "za=zw.view(-1,8)\n",
    "print(za)"
   ]
  },
  {
   "cell_type": "code",
   "execution_count": 53,
   "id": "7a2029c3",
   "metadata": {},
   "outputs": [
    {
     "name": "stdout",
     "output_type": "stream",
     "text": [
      "tensor([1., 1., 1., 1., 1.])\n"
     ]
    }
   ],
   "source": [
    "a=torch.ones(5)\n",
    "print(a)"
   ]
  },
  {
   "cell_type": "code",
   "execution_count": 57,
   "id": "37eecc71",
   "metadata": {},
   "outputs": [
    {
     "name": "stdout",
     "output_type": "stream",
     "text": [
      "[3. 3. 3. 3. 3.]\n",
      "tensor([4., 4., 4., 4., 4.])\n",
      "[4. 4. 4. 4. 4.]\n"
     ]
    }
   ],
   "source": [
    "b=a.numpy()\n",
    "print(b)\n",
    "a.add_(1)\n",
    "print(a)\n",
    "print(b)"
   ]
  },
  {
   "cell_type": "code",
   "execution_count": 61,
   "id": "3456e737",
   "metadata": {},
   "outputs": [
    {
     "name": "stdout",
     "output_type": "stream",
     "text": [
      "[1. 1. 1. 1. 1.]\n",
      "tensor([1., 1., 1., 1., 1.], dtype=torch.float64)\n"
     ]
    }
   ],
   "source": [
    "aa=np.ones(5)\n",
    "print(aa)\n",
    "bb=torch.from_numpy(aa)\n",
    "print(bb)"
   ]
  },
  {
   "cell_type": "code",
   "execution_count": 66,
   "id": "2e7f2c2e",
   "metadata": {},
   "outputs": [],
   "source": [
    "#Numpy can only handle cpu tensors\n",
    "if torch.cuda.is_available():\n",
    "    device=torch.device(\"cuda\")\n",
    "    x=torch.ones(5,device=device)\n",
    "    y=torch.ones(5)\n",
    "    y=y.to(device)#loading on gpu\n",
    "    z=x+y\n",
    "    z=z.to(\"cpu\")#back t"
   ]
  }
 ],
 "metadata": {
  "kernelspec": {
   "display_name": "Python 3 (ipykernel)",
   "language": "python",
   "name": "python3"
  },
  "language_info": {
   "codemirror_mode": {
    "name": "ipython",
    "version": 3
   },
   "file_extension": ".py",
   "mimetype": "text/x-python",
   "name": "python",
   "nbconvert_exporter": "python",
   "pygments_lexer": "ipython3",
   "version": "3.9.13"
  }
 },
 "nbformat": 4,
 "nbformat_minor": 5
}
